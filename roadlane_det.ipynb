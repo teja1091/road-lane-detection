{
  "nbformat": 4,
  "nbformat_minor": 0,
  "metadata": {
    "colab": {
      "provenance": [],
      "authorship_tag": "ABX9TyMK/SPOUxT60ek125vg8DVm",
      "include_colab_link": true
    },
    "kernelspec": {
      "name": "python3",
      "display_name": "Python 3"
    },
    "language_info": {
      "name": "python"
    }
  },
  "cells": [
    {
      "cell_type": "markdown",
      "metadata": {
        "id": "view-in-github",
        "colab_type": "text"
      },
      "source": [
        "<a href=\"https://colab.research.google.com/github/teja1091/road-lane-detection/blob/main/roadlane_det.ipynb\" target=\"_parent\"><img src=\"https://colab.research.google.com/assets/colab-badge.svg\" alt=\"Open In Colab\"/></a>"
      ]
    },
    {
      "cell_type": "code",
      "execution_count": null,
      "metadata": {
        "id": "2wA7SCECFhlX"
      },
      "outputs": [],
      "source": [
        "!pip install opencv-python-headless numpy\n"
      ]
    },
    {
      "cell_type": "code",
      "source": [
        "import cv2\n",
        "import numpy as np\n",
        "\n",
        "def preprocess_image(image):\n",
        "    # Convert the image to grayscale\n",
        "    gray = cv2.cvtColor(image, cv2.COLOR_BGR2GRAY)\n",
        "    # Apply Gaussian blur to the image\n",
        "    blur = cv2.GaussianBlur(gray, (5, 5), 0)\n",
        "    # Detect edges using Canny edge detector\n",
        "    edges = cv2.Canny(blur, 50, 150)\n",
        "    return edges\n",
        "\n",
        "def region_of_interest(edges):\n",
        "    # Define a mask to focus on the region of interest (ROI)\n",
        "    height, width = edges.shape\n",
        "    mask = np.zeros_like(edges)\n",
        "    polygon = np.array([[\n",
        "        (0, height),\n",
        "        (width, height),\n",
        "        (width, int(height * 0.6)),\n",
        "        (0, int(height * 0.6)),\n",
        "    ]], np.int32)\n",
        "    cv2.fillPoly(mask, polygon, 255)\n",
        "    masked_edges = cv2.bitwise_and(edges, mask)\n",
        "    return masked_edges\n",
        "\n",
        "def detect_lines(edges):\n",
        "    # Use Hough Transform to detect lines\n",
        "    lines = cv2.HoughLinesP(edges, 1, np.pi / 180, 50, maxLineGap=50)\n",
        "    return lines\n",
        "\n",
        "def display_lines(image, lines):\n",
        "    # Create an image to draw the lines on\n",
        "    line_image = np.zeros_like(image)\n",
        "    if lines is not None:\n",
        "        for line in lines:\n",
        "            x1, y1, x2, y2 = line[0]\n",
        "            cv2.line(line_image, (x1, y1), (x2, y2), (0, 255, 0), 10)\n",
        "    # Combine the original image with the line image\n",
        "    combined_image = cv2.addWeighted(image, 0.8, line_image, 1, 1)\n",
        "    return combined_image\n",
        "\n",
        "def lane_detection(image_path, output_path):\n",
        "    # Read the input image\n",
        "    image = cv2.imread(image_path)\n",
        "\n",
        "    # Check if the image was successfully loaded\n",
        "    if image is None:\n",
        "        print(f\"Error: Unable to load image at {image_path}\")\n",
        "        return\n",
        "\n",
        "    # Preprocess the image to detect edges\n",
        "    edges = preprocess_image(image)\n",
        "    # Focus on the region of interest\n",
        "    roi_edges = region_of_interest(edges)\n",
        "    # Detect lines in the image\n",
        "    lines = detect_lines(roi_edges)\n",
        "    # Display lines on the original image\n",
        "    output_image = display_lines(image, lines)\n",
        "    # Save the output image\n",
        "    cv2.imwrite(output_path, output_image)\n",
        "    print(f\"Output image saved at {output_path}\")\n",
        "\n",
        "# Example usage\n",
        "input_image_path = '/content/sample_data/input.jpeg'\n",
        "output_image_path = 'output.jpg'\n",
        "lane_detection(input_image_path, output_image_path)\n"
      ],
      "metadata": {
        "id": "5NQQgyTHFnLG"
      },
      "execution_count": null,
      "outputs": []
    }
  ]
}